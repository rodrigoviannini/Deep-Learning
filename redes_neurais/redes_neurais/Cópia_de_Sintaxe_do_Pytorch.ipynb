{
  "nbformat": 4,
  "nbformat_minor": 0,
  "metadata": {
    "colab": {
      "name": "Cópia de Sintaxe do Pytorch",
      "provenance": [],
      "collapsed_sections": []
    },
    "kernelspec": {
      "name": "python3",
      "display_name": "Python 3"
    },
    "accelerator": "GPU"
  },
  "cells": [
    {
      "cell_type": "code",
      "metadata": {
        "id": "Jo3G-RN7t2kl",
        "colab": {
          "base_uri": "https://localhost:8080/"
        },
        "outputId": "2667e43e-59af-4fbd-c986-cc7b57b0ea21"
      },
      "source": [
        "import torch\n",
        "tns = torch.randn(9, 12)\n",
        "tns1 = tns[0:5, 0:4]\n",
        "tns2 = tns[5:, 4:]\n",
        "\n",
        "resultado = torch.mm(tns1, tns2)\n",
        "print(resultado.size())"
      ],
      "execution_count": null,
      "outputs": [
        {
          "output_type": "stream",
          "name": "stdout",
          "text": [
            "torch.Size([5, 8])\n"
          ]
        }
      ]
    },
    {
      "cell_type": "markdown",
      "metadata": {
        "id": "c25hqijfflPT"
      },
      "source": [
        "# Sintaxe básica do Pytorch\n",
        "\n",
        "Assim como o NumPy, o Pytorch é uma biblioteca de processamento vetorial/matricial/tensorial. Operações sobre os tensores do Pytorch possuem sintaxe consideravelmente parecida com operações sobre tensores do NumPy.\n",
        "\n",
        "Para mais informações sobre tensores em PyTorch, consulte a documentação: <br> https://pytorch.org/docs/stable/tensors.html\n",
        "\n"
      ]
    },
    {
      "cell_type": "markdown",
      "metadata": {
        "id": "pIHvu_8afoi2"
      },
      "source": [
        "## Tipos de tensores \n",
        "\n",
        "Você pode criar tensores do PyTorch de inúmeras formas! Vamos ver primeiro os tipos de tensores que estão ao nosso dispor. Para isso, vamos converter listas comuns do Python em tensors do PyTorch.\n",
        "\n",
        "Note que a impressão de tensores dos tipos ```float32``` e ```int64``` não vêm acompanhadas do parâmetro de tipo ```dtype```, visto que se tratam dos tipos padrão trabalhados pelo PyTorch."
      ]
    },
    {
      "cell_type": "code",
      "metadata": {
        "id": "hnOEg66FjD2F",
        "colab": {
          "base_uri": "https://localhost:8080/"
        },
        "outputId": "43ccb36c-606f-46af-8c2d-0e4fe763c600"
      },
      "source": [
        "import torch\n",
        "lista = [ [1,2,3],\n",
        "          [4,5,6] ]\n",
        "\n",
        "tns = torch.Tensor(lista)\n",
        "print(tns.dtype)\n",
        "print(tns)\n",
        "\n",
        "print('')\n",
        "tns = torch.DoubleTensor(lista)\n",
        "print(tns.dtype)\n",
        "print(tns)\n",
        "\n",
        "print('')\n",
        "tns = torch.LongTensor(lista)\n",
        "print(tns.dtype)\n",
        "print(tns)\n"
      ],
      "execution_count": null,
      "outputs": [
        {
          "output_type": "stream",
          "name": "stdout",
          "text": [
            "torch.float32\n",
            "tensor([[1., 2., 3.],\n",
            "        [4., 5., 6.]])\n",
            "\n",
            "torch.float64\n",
            "tensor([[1., 2., 3.],\n",
            "        [4., 5., 6.]], dtype=torch.float64)\n",
            "\n",
            "torch.int64\n",
            "tensor([[1, 2, 3],\n",
            "        [4, 5, 6]])\n"
          ]
        }
      ]
    },
    {
      "cell_type": "markdown",
      "metadata": {
        "id": "gxA-fH8bq_fQ"
      },
      "source": [
        "## Outras formas de instanciar tensores\n",
        "\n",
        "### A partir de arrays Numpy\n",
        "$torch.from\\_numpy()$ \n",
        "\n"
      ]
    },
    {
      "cell_type": "code",
      "metadata": {
        "id": "eNxZ-rMHq-xd",
        "colab": {
          "base_uri": "https://localhost:8080/"
        },
        "outputId": "eb2bd67d-afb0-43bb-dd95-d356a1904abb"
      },
      "source": [
        "import numpy as np\n",
        "\n",
        "arr = np.random.rand(3,4)\n",
        "# arr = arr.astype(int)\n",
        "print(arr)\n",
        "print(arr.dtype)\n",
        "\n",
        "print('')\n",
        "tns = torch.from_numpy(arr)\n",
        "print(tns)\n",
        "print(tns.dtype)"
      ],
      "execution_count": null,
      "outputs": [
        {
          "output_type": "stream",
          "name": "stdout",
          "text": [
            "[[0.79278742 0.42132155 0.00879431 0.03859303]\n",
            " [0.87670825 0.79678101 0.68851749 0.23491561]\n",
            " [0.15545066 0.97506283 0.83242432 0.05884273]]\n",
            "float64\n",
            "\n",
            "tensor([[0.7928, 0.4213, 0.0088, 0.0386],\n",
            "        [0.8767, 0.7968, 0.6885, 0.2349],\n",
            "        [0.1555, 0.9751, 0.8324, 0.0588]], dtype=torch.float64)\n",
            "torch.float64\n"
          ]
        }
      ]
    },
    {
      "cell_type": "markdown",
      "metadata": {
        "id": "7QC4F0AqkpPb"
      },
      "source": [
        "### Tensores inicializados\n",
        "Essas funções recebem como parâmetro o tamanho de cada dimensão do tensor. Aqui vamos conhecer as seguintes funções:\n",
        "\n",
        "$torch.ones()$ -> Cria um tensor preenchido com zeros.\n",
        "\n",
        "$torch.zeros()$ -> Cria um tensor preenchido com uns.\n",
        "\n",
        "$torch.randn()$ -> Cria um tensor preenchido com números aleatórios a partir de uma distribuição normal."
      ]
    },
    {
      "cell_type": "code",
      "metadata": {
        "id": "mZ0kLNgtko5O",
        "colab": {
          "base_uri": "https://localhost:8080/"
        },
        "outputId": "c29b3986-c770-4b63-e1d7-fb088e722c27"
      },
      "source": [
        "tns1 = torch.ones(2, 3)\n",
        "tns0 = torch.zeros(3, 5)\n",
        "tnsr = torch.randn(3, 3)\n",
        "\n",
        "print(tns1)\n",
        "print()\n",
        "print(tns0)\n",
        "print()\n",
        "print(tnsr)"
      ],
      "execution_count": null,
      "outputs": [
        {
          "output_type": "stream",
          "name": "stdout",
          "text": [
            "tensor([[1., 1., 1.],\n",
            "        [1., 1., 1.]])\n",
            "\n",
            "tensor([[0., 0., 0., 0., 0.],\n",
            "        [0., 0., 0., 0., 0.],\n",
            "        [0., 0., 0., 0., 0.]])\n",
            "\n",
            "tensor([[ 0.9556, -0.0920,  0.3814],\n",
            "        [ 1.1769, -0.7666, -1.3371],\n",
            "        [-0.9476,  1.0692,  0.6045]])\n"
          ]
        }
      ]
    },
    {
      "cell_type": "markdown",
      "metadata": {
        "id": "lf9piGFVnx6m"
      },
      "source": [
        "### Tensor para array numpy"
      ]
    },
    {
      "cell_type": "code",
      "source": [
        "arr = tnsr\n",
        "print(arr)\n",
        "print(type(arr))"
      ],
      "metadata": {
        "colab": {
          "base_uri": "https://localhost:8080/"
        },
        "id": "Y_xJXvkj1fd4",
        "outputId": "7aaac4ff-9362-49ee-a10e-ac8231b19eb9"
      },
      "execution_count": null,
      "outputs": [
        {
          "output_type": "stream",
          "name": "stdout",
          "text": [
            "tensor([[ 0.9556, -0.0920,  0.3814],\n",
            "        [ 1.1769, -0.7666, -1.3371],\n",
            "        [-0.9476,  1.0692,  0.6045]])\n",
            "<class 'torch.Tensor'>\n"
          ]
        }
      ]
    },
    {
      "cell_type": "code",
      "metadata": {
        "id": "FLGt-iw2n3Za",
        "colab": {
          "base_uri": "https://localhost:8080/"
        },
        "outputId": "89ad88a5-e955-4c4c-a294-6844ce37db63"
      },
      "source": [
        "arr = tnsr.data.numpy()\n",
        "print(arr)\n",
        "print(type(arr))"
      ],
      "execution_count": null,
      "outputs": [
        {
          "output_type": "stream",
          "name": "stdout",
          "text": [
            "[[ 0.95564306 -0.09202313  0.3813985 ]\n",
            " [ 1.1769122  -0.7665986  -1.3371354 ]\n",
            " [-0.94758606  1.0691699   0.60451424]]\n",
            "<class 'numpy.ndarray'>\n"
          ]
        }
      ]
    },
    {
      "cell_type": "markdown",
      "metadata": {
        "id": "X07bm9KBnMtA"
      },
      "source": [
        "## Indexação\n",
        "\n",
        "De posse dessa informação, a indexação é feita de forma similar a arrays Numpy, através da sintaxe de colchetes ```[]```."
      ]
    },
    {
      "cell_type": "code",
      "source": [
        "# indexar == acessar\n",
        "print(tnsr)\n",
        "tnsr[1,2] = 00.3333\n",
        "\n",
        "print()\n",
        "\n",
        "print(tnsr)\n",
        "\n",
        "print()\n",
        "\n",
        "print(tnsr[:, 2])\n",
        "\n",
        "print()\n",
        "\n",
        "print(tnsr[0:2])"
      ],
      "metadata": {
        "colab": {
          "base_uri": "https://localhost:8080/"
        },
        "id": "Bk344yhk15cE",
        "outputId": "923a0f6e-45c7-4961-909c-3634ccabe6e8"
      },
      "execution_count": null,
      "outputs": [
        {
          "output_type": "stream",
          "name": "stdout",
          "text": [
            "tensor([[ 0.9556, -0.0920,  0.3814],\n",
            "        [ 1.1769, -0.7666, -1.3371],\n",
            "        [-0.9476,  1.0692,  0.6045]])\n",
            "\n",
            "tensor([[ 0.9556, -0.0920,  0.3814],\n",
            "        [ 1.1769, -0.7666,  0.3333],\n",
            "        [-0.9476,  1.0692,  0.6045]])\n",
            "\n",
            "tensor([0.3814, 0.3333, 0.6045])\n",
            "\n",
            "tensor([[ 0.9556, -0.0920,  0.3814],\n",
            "        [ 1.1769, -0.7666,  0.3333]])\n"
          ]
        }
      ]
    },
    {
      "cell_type": "code",
      "metadata": {
        "id": "c8jRdxHTpCN0",
        "colab": {
          "base_uri": "https://localhost:8080/"
        },
        "outputId": "b8dbaff5-99bb-4458-f218-3b5083d05e43"
      },
      "source": [
        "# tnsr[0,1]\n",
        "\n",
        "print(tnsr[0:2, 2].data.numpy())\n",
        "print(tnsr[0, 1].item())"
      ],
      "execution_count": null,
      "outputs": [
        {
          "output_type": "stream",
          "name": "stdout",
          "text": [
            "[0.3813985 0.3333   ]\n",
            "-0.09202313423156738\n"
          ]
        }
      ]
    },
    {
      "cell_type": "markdown",
      "metadata": {
        "id": "EzGW3gVTqK4y"
      },
      "source": [
        "## Operações com tensores\n",
        "\n",
        "A função ```.item()``` utilizada anteriormente extrai o número de um tensor que possui um único valor, permitindo realizar as operações numéricas do Python. Caso o item não seja extraído, operações que envolvam tensores vão retornar novos tensores.\n",
        "\n",
        "Vale ressaltar também que operações entre tensores são realizadas **ponto a ponto**, operando cada elemento ```(i, j)``` do tensor ```t1```, com o elemento ```(i, j)``` do tensor ```t2```."
      ]
    },
    {
      "cell_type": "code",
      "metadata": {
        "id": "vuQTTUf6QiY0",
        "colab": {
          "base_uri": "https://localhost:8080/"
        },
        "outputId": "6f02666e-a17b-4f5a-fb1a-4bf873de5a8d"
      },
      "source": [
        "tns1 = torch.randn(2,2,3)\n",
        "tns2 = torch.ones(2,2,3)\n",
        "\n",
        "print(tns1)\n",
        "print(tns2)\n",
        "\n",
        "print('')\n",
        "\n",
        "print(tns1*tns2)"
      ],
      "execution_count": null,
      "outputs": [
        {
          "output_type": "stream",
          "name": "stdout",
          "text": [
            "tensor([[[-0.2146,  0.2766, -0.1327],\n",
            "         [ 1.6839,  1.1370, -0.5611]],\n",
            "\n",
            "        [[-1.4219,  0.6461,  2.4023],\n",
            "         [ 0.2043, -0.3392, -0.8230]]])\n",
            "tensor([[[1., 1., 1.],\n",
            "         [1., 1., 1.]],\n",
            "\n",
            "        [[1., 1., 1.],\n",
            "         [1., 1., 1.]]])\n",
            "\n",
            "tensor([[[-0.2146,  0.2766, -0.1327],\n",
            "         [ 1.6839,  1.1370, -0.5611]],\n",
            "\n",
            "        [[-1.4219,  0.6461,  2.4023],\n",
            "         [ 0.2043, -0.3392, -0.8230]]])\n"
          ]
        }
      ]
    },
    {
      "cell_type": "code",
      "source": [
        "tns2.shape"
      ],
      "metadata": {
        "colab": {
          "base_uri": "https://localhost:8080/"
        },
        "id": "ZK-_liob8zgF",
        "outputId": "8d9c009e-c6cc-4fa6-e233-4d52cc054c52"
      },
      "execution_count": null,
      "outputs": [
        {
          "output_type": "execute_result",
          "data": {
            "text/plain": [
              "torch.Size([2, 2, 3])"
            ]
          },
          "metadata": {},
          "execution_count": 15
        }
      ]
    },
    {
      "cell_type": "code",
      "source": [
        "tns1.shape"
      ],
      "metadata": {
        "colab": {
          "base_uri": "https://localhost:8080/"
        },
        "id": "fM0S8hZp8350",
        "outputId": "a68e30a1-619c-4850-fe03-56d2c57fa0bb"
      },
      "execution_count": null,
      "outputs": [
        {
          "output_type": "execute_result",
          "data": {
            "text/plain": [
              "torch.Size([2, 2, 3])"
            ]
          },
          "metadata": {},
          "execution_count": 16
        }
      ]
    },
    {
      "cell_type": "markdown",
      "metadata": {
        "id": "f-N_PETWtMZ7"
      },
      "source": [
        "## Função ```.size()``` e ```.view()```\n",
        "\n",
        "Uma operações **importantíssima** na manipulação de tensores para Deep Learning é a reorganização das suas dimensões. Dessa forma podemos, por exemplo, **linearizar um tensor n-dimensional**."
      ]
    },
    {
      "cell_type": "code",
      "source": [
        "tns = torch.randn(2,2,3)\n",
        "print(tns)\n",
        "print(tns.size())"
      ],
      "metadata": {
        "colab": {
          "base_uri": "https://localhost:8080/"
        },
        "id": "OL4_v1mL83U4",
        "outputId": "e10d8d49-30b5-4f3d-86fc-ff6cc7210b09"
      },
      "execution_count": null,
      "outputs": [
        {
          "output_type": "stream",
          "name": "stdout",
          "text": [
            "tensor([[[-0.5372,  1.2174, -1.7088],\n",
            "         [-0.8526, -1.1299, -1.3625]],\n",
            "\n",
            "        [[ 0.4519, -0.3452, -2.3278],\n",
            "         [ 1.4025, -0.3334, -0.0611]]])\n",
            "torch.Size([2, 2, 3])\n"
          ]
        }
      ]
    },
    {
      "cell_type": "markdown",
      "source": [
        "achatamento"
      ],
      "metadata": {
        "id": "drUGw_Sq_0ox"
      }
    },
    {
      "cell_type": "code",
      "source": [
        "tns = tns.view(12)\n",
        "print(tns)"
      ],
      "metadata": {
        "colab": {
          "base_uri": "https://localhost:8080/"
        },
        "id": "fXLHHGPV_LMP",
        "outputId": "5d9a4f5d-1d2b-4d54-deca-91ed1b49172e"
      },
      "execution_count": null,
      "outputs": [
        {
          "output_type": "stream",
          "name": "stdout",
          "text": [
            "tensor([-0.5372,  1.2174, -1.7088, -0.8526, -1.1299, -1.3625,  0.4519, -0.3452,\n",
            "        -2.3278,  1.4025, -0.3334, -0.0611])\n"
          ]
        }
      ]
    },
    {
      "cell_type": "code",
      "source": [
        "tns = tns.view(-1)\n",
        "print(tns)"
      ],
      "metadata": {
        "colab": {
          "base_uri": "https://localhost:8080/"
        },
        "id": "DSkUdVFH_lq7",
        "outputId": "fc61d5ce-c3ce-4c21-c4b0-4eaaa0fa7a55"
      },
      "execution_count": null,
      "outputs": [
        {
          "output_type": "stream",
          "name": "stdout",
          "text": [
            "tensor([-0.5372,  1.2174, -1.7088, -0.8526, -1.1299, -1.3625,  0.4519, -0.3452,\n",
            "        -2.3278,  1.4025, -0.3334, -0.0611])\n"
          ]
        }
      ]
    },
    {
      "cell_type": "code",
      "source": [
        "tns = tns.view(4,3)\n",
        "print(tns)"
      ],
      "metadata": {
        "colab": {
          "base_uri": "https://localhost:8080/"
        },
        "id": "nPcgZijF_un2",
        "outputId": "3b275315-a598-453e-b650-a10252cd0f2c"
      },
      "execution_count": null,
      "outputs": [
        {
          "output_type": "stream",
          "name": "stdout",
          "text": [
            "tensor([[-0.5372,  1.2174, -1.7088],\n",
            "        [-0.8526, -1.1299, -1.3625],\n",
            "        [ 0.4519, -0.3452, -2.3278],\n",
            "        [ 1.4025, -0.3334, -0.0611]])\n"
          ]
        }
      ]
    },
    {
      "cell_type": "markdown",
      "source": [
        "tamanho e achatamento"
      ],
      "metadata": {
        "id": "bmy-ievc_8Ux"
      }
    },
    {
      "cell_type": "code",
      "metadata": {
        "id": "CKgCe5brte2L",
        "colab": {
          "base_uri": "https://localhost:8080/"
        },
        "outputId": "21168840-eac4-4f8c-8224-1aac674a0c91"
      },
      "source": [
        "print(tns2.size())\n",
        "\n",
        "print(tns2.view(tns2.size(0), -1)) # mantem a primeira dimensao e achata o resto "
      ],
      "execution_count": null,
      "outputs": [
        {
          "output_type": "stream",
          "name": "stdout",
          "text": [
            "torch.Size([2, 2, 3])\n",
            "tensor([[1., 1., 1., 1., 1., 1.],\n",
            "        [1., 1., 1., 1., 1., 1.]])\n"
          ]
        }
      ]
    },
    {
      "cell_type": "markdown",
      "metadata": {
        "id": "0o4_LzQoz0Ti"
      },
      "source": [
        "## GPU Cast\n",
        "\n",
        "Para que o seu script dê suporte a infraestruturas com e sem GPU, é importante definir o dispositivo no início do seu código de acordo com a verificação apresentada a seguir. Essa definição de dispositivo será utilizada toda vez que precisarmos subir valores na GPU, como os pesos da rede, os gradientes, etc."
      ]
    },
    {
      "cell_type": "code",
      "source": [
        "import torch\n",
        "if torch.cuda.is_available(): #GPU esta dispnivel?\n",
        "    device = torch.device('cuda')\n",
        "else:\n",
        "    device = torch.device('cpu')\n",
        "print(device)"
      ],
      "metadata": {
        "colab": {
          "base_uri": "https://localhost:8080/"
        },
        "id": "7v_kjpTFAdZ7",
        "outputId": "c23c167a-699c-4ac5-c149-8fedfead4dce"
      },
      "execution_count": null,
      "outputs": [
        {
          "output_type": "stream",
          "name": "stdout",
          "text": [
            "cpu\n"
          ]
        }
      ]
    },
    {
      "cell_type": "code",
      "metadata": {
        "id": "uePyYun4z1u3",
        "outputId": "47e9686c-4c76-4ab8-8d31-c54c722d13b5",
        "colab": {
          "base_uri": "https://localhost:8080/"
        }
      },
      "source": [
        "import torch\n",
        "if torch.cuda.is_available(): #GPU esta dispnivel?\n",
        "  device = torch.device('cuda')\n",
        "else:\n",
        "  device = torch.device('cpu')\n",
        "  \n",
        "print(device)\n",
        "\n",
        "print('=='*30)\n",
        "\n",
        "tns = tns.to(device) # jogando a variavel na GPU == cuda\n",
        "print(tns)"
      ],
      "execution_count": null,
      "outputs": [
        {
          "output_type": "stream",
          "name": "stdout",
          "text": [
            "cuda\n",
            "============================================================\n",
            "tensor([[-0.6919,  1.0432, -0.4097],\n",
            "        [-0.1040,  0.9651, -1.8367],\n",
            "        [-1.6184, -0.0631,  0.6176],\n",
            "        [-1.0652, -0.6006,  0.4474]], device='cuda:0')\n"
          ]
        }
      ]
    },
    {
      "cell_type": "code",
      "source": [
        "tns_out = torch.cat( (tns1, tns1), dim=0 )"
      ],
      "metadata": {
        "id": "WrALyZeVAzzD"
      },
      "execution_count": null,
      "outputs": []
    },
    {
      "cell_type": "code",
      "source": [
        "tns_out"
      ],
      "metadata": {
        "colab": {
          "base_uri": "https://localhost:8080/"
        },
        "id": "J92zemTiB3mJ",
        "outputId": "38953229-9cb7-43ad-f49b-cdf18b98ca1e"
      },
      "execution_count": null,
      "outputs": [
        {
          "output_type": "execute_result",
          "data": {
            "text/plain": [
              "tensor([[[ 2.5533e+00, -1.7464e-01, -5.4974e-01],\n",
              "         [ 1.6209e+00, -9.0534e-01, -3.2231e-01]],\n",
              "\n",
              "        [[ 1.9457e-03, -1.3335e+00,  1.2358e+00],\n",
              "         [-5.1070e-01, -4.6594e-02,  2.5468e+00]],\n",
              "\n",
              "        [[ 2.5533e+00, -1.7464e-01, -5.4974e-01],\n",
              "         [ 1.6209e+00, -9.0534e-01, -3.2231e-01]],\n",
              "\n",
              "        [[ 1.9457e-03, -1.3335e+00,  1.2358e+00],\n",
              "         [-5.1070e-01, -4.6594e-02,  2.5468e+00]]])"
            ]
          },
          "metadata": {},
          "execution_count": 77
        }
      ]
    },
    {
      "cell_type": "markdown",
      "source": [
        "Para realizar o produto interno de tensores 2D, o Pytorch possui a função torch.mm(tns1, tns2), que recebe como parâmetro os dois tensores a serem operados e retorna o resultado do produto. Para que o produto seja possível, o tensor tns1 deve ser (n x m) e tns2 (m x p), sendo o resultado um tensor (n x p).\n",
        "\n",
        "Observe o seguinte código:"
      ],
      "metadata": {
        "id": "04OE4yT4CEbN"
      }
    },
    {
      "cell_type": "code",
      "source": [
        "import torch\n",
        "tns = torch.randn(9, 12)\n",
        "tns1 = tns[0:5, 0:4]\n",
        "tns2 = tns[5:, 4:]\n",
        "\n",
        "resultado = torch.mm(tns1, tns2)\n",
        "print(resultado.size())"
      ],
      "metadata": {
        "colab": {
          "base_uri": "https://localhost:8080/"
        },
        "id": "CC5NnHtgCEgm",
        "outputId": "6d950462-56f4-4eed-f3a0-36f379b7e2d8"
      },
      "execution_count": null,
      "outputs": [
        {
          "output_type": "stream",
          "name": "stdout",
          "text": [
            "torch.Size([5, 8])\n"
          ]
        }
      ]
    },
    {
      "cell_type": "markdown",
      "source": [
        "Nesta aula nos familiarizamos com o ambiente do Google Colab à medida que introduzimos a sintaxe básica do PyTorch para manipulação de tensores. Para trabalhar com redes neurais, a sua principal preocupação em relação aos tensores é garantir que sua dimensionalidade seja consistente com a operação que se deseja realizar.\n",
        "\n",
        "Pensando nisso, crie um tensor aleatório tns1 com a dimensionalidade 7 x 7 x 3 e um outro tensor aleatório tns2 de 147 x 1. Modificando apenas tns1 some os dois tensores."
      ],
      "metadata": {
        "id": "4GeatkvpCRR_"
      }
    },
    {
      "cell_type": "code",
      "source": [
        "## Resumo do código\n",
        "import torch \n",
        "tns1 = torch.randn(7,7,3)\n",
        "tns2 = torch.randn(147, 1)\n",
        "\n",
        "tns1 = tns1.view(-1, 1)\n",
        "soma = tns1 + tns2"
      ],
      "metadata": {
        "id": "H0OyuK2LCSws"
      },
      "execution_count": null,
      "outputs": []
    },
    {
      "cell_type": "code",
      "source": [
        "soma"
      ],
      "metadata": {
        "id": "2CQ48TLSCXSo"
      },
      "execution_count": null,
      "outputs": []
    },
    {
      "cell_type": "code",
      "source": [
        ""
      ],
      "metadata": {
        "id": "hOMJnYdgCZg5"
      },
      "execution_count": null,
      "outputs": []
    }
  ]
}